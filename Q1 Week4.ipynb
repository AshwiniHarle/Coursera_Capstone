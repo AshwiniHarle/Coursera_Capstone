{
 "cells": [
  {
   "cell_type": "markdown",
   "metadata": {},
   "source": [
    "# Capstone Project - The Battle of Neighbourhoods\n"
   ]
  },
  {
   "cell_type": "markdown",
   "metadata": {},
   "source": [
    "# Introduction / Business Problem\n"
   ]
  },
  {
   "cell_type": "markdown",
   "metadata": {},
   "source": [
    "### \"Which locality of all the cities in United States would be the best place to start a Gaming Arcade?\""
   ]
  },
  {
   "cell_type": "markdown",
   "metadata": {},
   "source": [
    "My boss Ramnath is interested in starting a gaming arcade in the best locality of all the cities in United states. He defines a best locatlity based on the following constraints"
   ]
  },
  {
   "cell_type": "markdown",
   "metadata": {},
   "source": [
    "- Population density of a locality<br>\n",
    "- Per Capital income<br>\n",
    "- Population of each location<br>\n",
    "- Venues in each locality"
   ]
  },
  {
   "cell_type": "markdown",
   "metadata": {},
   "source": [
    "### The category of the venues that he's interested in are,\n",
    "\n"
   ]
  },
  {
   "cell_type": "markdown",
   "metadata": {},
   "source": [
    "- Arts and Entertainment<br>\n",
    "- Shops & Service<br>\n",
    "- College and University<br>\n",
    "- Event<br>\n",
    "- Food<br>\n",
    "- Nightife Spot<br>\n",
    "- Outdoors & Recreation<br>\n",
    "- Professional & Other places<br>\n",
    "- Residence<br>\n",
    "- Travel & Transport"
   ]
  },
  {
   "cell_type": "code",
   "execution_count": null,
   "metadata": {},
   "outputs": [],
   "source": []
  }
 ],
 "metadata": {
  "kernelspec": {
   "display_name": "Python 3",
   "language": "python",
   "name": "python3"
  },
  "language_info": {
   "codemirror_mode": {
    "name": "ipython",
    "version": 3
   },
   "file_extension": ".py",
   "mimetype": "text/x-python",
   "name": "python",
   "nbconvert_exporter": "python",
   "pygments_lexer": "ipython3",
   "version": "3.7.6"
  }
 },
 "nbformat": 4,
 "nbformat_minor": 4
}
